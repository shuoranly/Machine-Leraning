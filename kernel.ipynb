{
  "cells": [
    {
      "metadata": {
        "_uuid": "1a6fb234581f01dc07ec744996c9c0637f76d3f3"
      },
      "cell_type": "markdown",
      "source": "## Loading Libraries"
    },
    {
      "metadata": {
        "trusted": true,
        "collapsed": true,
        "_uuid": "769cea63597f5d14d9d847e5299d4c9d91042d17"
      },
      "cell_type": "code",
      "source": "%matplotlib inline\nimport numpy as np\nimport pandas as pd\nimport matplotlib.pyplot as plt\nimport seaborn as sns\nfrom datetime import datetime\nimport xgboost as xgb\nimport lightgbm as lgb\nfrom sklearn.model_selection import KFold, GridSearchCV\nfrom sklearn.model_selection import train_test_split\nfrom sklearn.metrics import make_scorer",
      "execution_count": 1,
      "outputs": []
    },
    {
      "metadata": {
        "_uuid": "35409a36bae54de6491708cebf3ad4a0846dd47a"
      },
      "cell_type": "markdown",
      "source": "## Loading Data\n- train.csv - historical data including Sales\n- test.csv - historical data excluding Sales\n- store.csv - supplemental information about the stores"
    },
    {
      "metadata": {
        "trusted": true,
        "_uuid": "db569350fbd485e94570a3009ac9dadae649467b"
      },
      "cell_type": "code",
      "source": "train_df = pd.read_csv('../input/train.csv')\nstore_df = pd.read_csv('../input/store.csv')\ntest_df = pd.read_csv('../input/test.csv')",
      "execution_count": 2,
      "outputs": [
        {
          "output_type": "stream",
          "text": "/opt/conda/lib/python3.6/site-packages/IPython/core/interactiveshell.py:2698: DtypeWarning: Columns (7) have mixed types. Specify dtype option on import or set low_memory=False.\n  interactivity=interactivity, compiler=compiler, result=result)\n",
          "name": "stderr"
        }
      ]
    },
    {
      "metadata": {
        "_uuid": "5eca3875f9654e650fe02a4019953645ff6b928b"
      },
      "cell_type": "markdown",
      "source": "## Data Assess\n- Id - an Id that represents a (Store, Date) duple within the test set\n- Store - a unique Id for each store\n- Sales - the turnover for any given day (this is what you are predicting)\n- Customers - the number of customers on a given day\n- Open - an indicator for whether the store was open: 0 = closed, 1 = open\n- StateHoliday - indicates a state holiday. Normally all stores, with few exceptions, are closed on state holidays. Note that all schools are  closed on public holidays and weekends. a = public holiday, b = Easter holiday, c = Christmas, 0 = None\n- SchoolHoliday - indicates if the (Store, Date) was affected by the closure of public schools\n- StoreType - differentiates between 4 different store models: a, b, c, d\n- Assortment - describes an assortment level: a = basic, b = extra, c = extended\n- CompetitionDistance - distance in meters to the nearest competitor store\n- CompetitionOpenSince[Month/Year] - gives the approximate year and month of the time the nearest competitor was opened\n- Promo - indicates whether a store is running a promo on that day\n- Promo2 - Promo2 is a continuing and consecutive promotion for some stores: 0 = store is not participating, 1 = store is participating\n- Promo2Since[Year/Week] - describes the year and calendar week when the store started participating in Promo2\n- PromoInterval - describes the consecutive intervals Promo2 is started, naming the months the promotion is started anew. E.g.    \"Feb,May,Aug,Nov\" means each round starts in February, May, August, November of any given year for that store"
    },
    {
      "metadata": {
        "_uuid": "6413b1d99d3dfd79d08e854d2e3e32745f8c70ee"
      },
      "cell_type": "markdown",
      "source": "#### train data"
    },
    {
      "metadata": {
        "trusted": true,
        "_uuid": "3683994ee255267c9af9ed483cbdbb897fdcb37c",
        "collapsed": true
      },
      "cell_type": "code",
      "source": "",
      "execution_count": null,
      "outputs": []
    },
    {
      "metadata": {
        "trusted": true,
        "_uuid": "e7688635ccf2ed5e5ad4ee0f2eadbdc1d559310d",
        "collapsed": true
      },
      "cell_type": "code",
      "source": "",
      "execution_count": null,
      "outputs": []
    },
    {
      "metadata": {
        "trusted": true,
        "_uuid": "4e117292fadf93ed3227138318fef90fd5a9600b",
        "collapsed": true
      },
      "cell_type": "code",
      "source": "",
      "execution_count": null,
      "outputs": []
    },
    {
      "metadata": {
        "trusted": true,
        "_uuid": "f30aed94cf4d57ff922c4ed7cebfc13ae1ce3c94",
        "collapsed": true
      },
      "cell_type": "code",
      "source": "",
      "execution_count": null,
      "outputs": []
    },
    {
      "metadata": {
        "scrolled": true,
        "trusted": true,
        "_uuid": "c795d37d068140334a8cc0c499f7dae2dc37a0a7",
        "collapsed": true
      },
      "cell_type": "code",
      "source": "",
      "execution_count": null,
      "outputs": []
    },
    {
      "metadata": {
        "scrolled": true,
        "trusted": true,
        "_uuid": "b6aa031e18277d20b293b93e2b29f4bfac3b58a1",
        "collapsed": true
      },
      "cell_type": "code",
      "source": "",
      "execution_count": null,
      "outputs": []
    },
    {
      "metadata": {
        "_uuid": "329462da0a4ddc63be1eddd90bcfbb15149b3e6f"
      },
      "cell_type": "markdown",
      "source": "#### store data"
    },
    {
      "metadata": {
        "trusted": true,
        "_uuid": "d735ee6c361dd17fe7c31933f1b7200b73a74483",
        "collapsed": true
      },
      "cell_type": "code",
      "source": "",
      "execution_count": null,
      "outputs": []
    },
    {
      "metadata": {
        "trusted": true,
        "_uuid": "1fe2e599e65d104b2f596233fb0d24ee3c9780c7",
        "collapsed": true
      },
      "cell_type": "code",
      "source": "",
      "execution_count": null,
      "outputs": []
    },
    {
      "metadata": {
        "trusted": true,
        "_uuid": "ac24c614a36278d7dc24ce931773f0ddd8dd349b",
        "collapsed": true
      },
      "cell_type": "code",
      "source": "",
      "execution_count": null,
      "outputs": []
    },
    {
      "metadata": {
        "scrolled": true,
        "trusted": true,
        "_uuid": "70f43aa4f03264e69c045bd0f1775d98c89c1b9f",
        "collapsed": true
      },
      "cell_type": "code",
      "source": "",
      "execution_count": null,
      "outputs": []
    },
    {
      "metadata": {
        "scrolled": true,
        "trusted": true,
        "_uuid": "648602f0f1da5a5c9eedca38606e12a743da5ff5",
        "collapsed": true
      },
      "cell_type": "code",
      "source": "",
      "execution_count": null,
      "outputs": []
    },
    {
      "metadata": {
        "scrolled": true,
        "trusted": true,
        "_uuid": "3e61c348e79055446b4db70f15d4030f942a1db9",
        "collapsed": true
      },
      "cell_type": "code",
      "source": "",
      "execution_count": null,
      "outputs": []
    },
    {
      "metadata": {
        "_uuid": "a4bc9a1b3e5d96990e2fe45549a892f75e20cde4"
      },
      "cell_type": "markdown",
      "source": "#### test data"
    },
    {
      "metadata": {
        "trusted": true,
        "_uuid": "8a31eee66443707f6232351a6ae391f4bc2edef5",
        "collapsed": true
      },
      "cell_type": "code",
      "source": "",
      "execution_count": null,
      "outputs": []
    },
    {
      "metadata": {
        "_uuid": "5676068bce6111a28058198d370d30fa392d8379"
      },
      "cell_type": "markdown",
      "source": "## Data Wrangle"
    },
    {
      "metadata": {
        "_uuid": "888de1713d3cf12a0efbc25e494d965487595966"
      },
      "cell_type": "markdown",
      "source": "### Tidy\n- merge the train_df and store_df\n- merge the test_df and store_df"
    },
    {
      "metadata": {
        "_uuid": "4df79a631dcf8c336060146d99b08d33ff6dd581"
      },
      "cell_type": "markdown",
      "source": "#### merge the train_df and store_df\nusing pandas.merge function to merge train_df, test_df and store_df."
    },
    {
      "metadata": {
        "_uuid": "77aa620207f6ae862a2c9051905f73e34b8e7fbd"
      },
      "cell_type": "markdown",
      "source": "#### Code"
    },
    {
      "metadata": {
        "trusted": true,
        "collapsed": true,
        "_uuid": "9b4d22aa95666101fda519318cc4abb448909357"
      },
      "cell_type": "code",
      "source": "train_store_df = pd.merge(train_df, store_df, on='Store')\ntest_store_df = pd.merge(test_df, store_df, on='Store')",
      "execution_count": 3,
      "outputs": []
    },
    {
      "metadata": {
        "_uuid": "944bcbe9d3ac08218edf9e0df8c51dea3b997d20"
      },
      "cell_type": "markdown",
      "source": "#### Test"
    },
    {
      "metadata": {
        "trusted": true,
        "_uuid": "c113b26560b15f155bf98e32106362fac8dd7d9d",
        "collapsed": true
      },
      "cell_type": "code",
      "source": "",
      "execution_count": null,
      "outputs": []
    },
    {
      "metadata": {
        "trusted": true,
        "_uuid": "7a00860c5e467630e6192c94e95aebc1c4a2a59a",
        "collapsed": true
      },
      "cell_type": "code",
      "source": "",
      "execution_count": null,
      "outputs": []
    },
    {
      "metadata": {
        "trusted": true,
        "_uuid": "339b8555d2d021c2a1ef20d72f42774763062294",
        "collapsed": true
      },
      "cell_type": "code",
      "source": "",
      "execution_count": null,
      "outputs": []
    },
    {
      "metadata": {
        "trusted": true,
        "_uuid": "9528fa28a87881b2992c59afdcf4d82777b9baba",
        "collapsed": true
      },
      "cell_type": "code",
      "source": "",
      "execution_count": null,
      "outputs": []
    },
    {
      "metadata": {
        "trusted": true,
        "_uuid": "12c0fd2e3ea358e626f2cb0bda36815064d556f0",
        "collapsed": true
      },
      "cell_type": "code",
      "source": "",
      "execution_count": null,
      "outputs": []
    },
    {
      "metadata": {
        "trusted": true,
        "_uuid": "8b7a39bed488c0a0dbc95cc71f0df87dc6d3aeaf",
        "collapsed": true
      },
      "cell_type": "code",
      "source": "",
      "execution_count": null,
      "outputs": []
    },
    {
      "metadata": {
        "_uuid": "c15e358f52c59c2cf8f38c5a1efd6c9941c79285"
      },
      "cell_type": "markdown",
      "source": "### Quality\n\n`train_store_df`:\n- incorrect data type: `Date`\n- missing data : `CompetitionDistance`, `CompetitionOpenSinceMonth`, `CompetitionOpenSinceYear`, `Promo2SinceWeek`, `Promo2SinceYear`, `PromoInterval`\n\n`test_store_df`:\n- incorrect data type: `Date`\n- missing data : `Open`, `CompetitionDistance`, `CompetitionOpenSinceMonth`, `CompetitionOpenSinceYear`, `Promo2SinceWeek`, `Promo2SinceYear`, `PromoInterval`"
    },
    {
      "metadata": {
        "_uuid": "02cb33fdc53e80a2709a5e503858166ba1a15150"
      },
      "cell_type": "markdown",
      "source": "### `train_store_df` : "
    },
    {
      "metadata": {
        "_uuid": "33e2373a5dd6611cc5f4bd749190bcb383e2c53e"
      },
      "cell_type": "markdown",
      "source": "#### incorrect data type: `Date`\nUsing pandas.to_datetime to do it."
    },
    {
      "metadata": {
        "_uuid": "db75d755e9cf32d15555baa9e3485bc08cdcb21c"
      },
      "cell_type": "markdown",
      "source": "#### code"
    },
    {
      "metadata": {
        "trusted": true,
        "collapsed": true,
        "_uuid": "e0ef00e81dacd1c1ca90e2ed74611a3ef420805e"
      },
      "cell_type": "code",
      "source": "train_store_df.Date = pd.to_datetime(train_store_df.Date)",
      "execution_count": 4,
      "outputs": []
    },
    {
      "metadata": {
        "_uuid": "bd971c7316854a74cb22dedeb4465d24210f2e37"
      },
      "cell_type": "markdown",
      "source": "#### Test"
    },
    {
      "metadata": {
        "trusted": true,
        "_uuid": "0072f577e87e5ae474a29ae81e629d6a3642dc64",
        "collapsed": true
      },
      "cell_type": "code",
      "source": "",
      "execution_count": null,
      "outputs": []
    },
    {
      "metadata": {
        "_uuid": "c923da4d59a55a8fbcfef68802e64cf396dae515"
      },
      "cell_type": "markdown",
      "source": "#### missing data : `CompetitionDistance`, `CompetitionOpenSinceMonth`, `CompetitionOpenSinceYear`, `Promo2SinceWeek`, `Promo2SinceYear`, `PromoInterval`\n\nUsing pandas.DataFrame.fillna to fill `CompetitionDistance`,`CompetitionOpenSinceMonth` and `CompetitionOpenSinceYear`with 0.\n\nUsing pandas.DataFrame.fillna to fill `Promo2SinceWeek`,`Promo2SinceYear` and `PromoInterval` with 0.\n"
    },
    {
      "metadata": {
        "_uuid": "28f3fdfd38551408cd5714abd687602328223a3b"
      },
      "cell_type": "markdown",
      "source": "#### Code"
    },
    {
      "metadata": {
        "trusted": true,
        "collapsed": true,
        "_uuid": "6a456ac5c7a848992e05472cf1f43d144d1a7a79"
      },
      "cell_type": "code",
      "source": "train_store_df.CompetitionDistance.fillna(0, inplace=True)\ntrain_store_df.CompetitionOpenSinceMonth.fillna(0, inplace=True)\ntrain_store_df.CompetitionOpenSinceYear.fillna(0, inplace=True)",
      "execution_count": 5,
      "outputs": []
    },
    {
      "metadata": {
        "trusted": true,
        "collapsed": true,
        "_uuid": "df52ee6d995407b5bce2de4e1cfd393793ccadd5"
      },
      "cell_type": "code",
      "source": "train_store_df.Promo2SinceWeek.fillna(0, inplace=True)\ntrain_store_df.Promo2SinceYear.fillna(0, inplace=True)\ntrain_store_df.PromoInterval.fillna(0, inplace=True)",
      "execution_count": 6,
      "outputs": []
    },
    {
      "metadata": {
        "_uuid": "c5ec82f2c6951e49e1197fdb0a74b4edcfbbf0fd"
      },
      "cell_type": "markdown",
      "source": "#### Test"
    },
    {
      "metadata": {
        "trusted": true,
        "_uuid": "0f73b95479d98b99f87603ea890fe8bb8602a867",
        "collapsed": true
      },
      "cell_type": "code",
      "source": "",
      "execution_count": null,
      "outputs": []
    },
    {
      "metadata": {
        "trusted": true,
        "_uuid": "d8c2da1adb3d22ec464eedd0c64a943ad5530785",
        "collapsed": true
      },
      "cell_type": "code",
      "source": "",
      "execution_count": null,
      "outputs": []
    },
    {
      "metadata": {
        "trusted": true,
        "_uuid": "7111b302caa775c7662877fe3b5f74601da799d6",
        "collapsed": true
      },
      "cell_type": "code",
      "source": "",
      "execution_count": null,
      "outputs": []
    },
    {
      "metadata": {
        "_uuid": "3e652186331c2f78fb3a195e92026a71b15f7b6d"
      },
      "cell_type": "markdown",
      "source": "### `test_store_df`:"
    },
    {
      "metadata": {
        "_uuid": "500501fb66e80cded69e6dfc84dc0404bd062169"
      },
      "cell_type": "markdown",
      "source": "#### incorrect data type: `Date`\nUsing pandas.to_datetime to do it."
    },
    {
      "metadata": {
        "_uuid": "49e1e534e469c0c83f63d2ea6b8b5d92288b4994"
      },
      "cell_type": "markdown",
      "source": "#### Code"
    },
    {
      "metadata": {
        "trusted": true,
        "collapsed": true,
        "_uuid": "3639faa402ed2a536c7a590efe16ffbcac50ac6f"
      },
      "cell_type": "code",
      "source": "test_store_df.Date = pd.to_datetime(test_store_df.Date)",
      "execution_count": 7,
      "outputs": []
    },
    {
      "metadata": {
        "_uuid": "267291fa9b8cf11a2031f0754d41bc3c8c49959a"
      },
      "cell_type": "markdown",
      "source": "#### Test"
    },
    {
      "metadata": {
        "trusted": true,
        "_uuid": "a778db0ff341caf18d86f66b0ade6f8a83376646",
        "collapsed": true
      },
      "cell_type": "code",
      "source": "",
      "execution_count": null,
      "outputs": []
    },
    {
      "metadata": {
        "_uuid": "49752121990425d89d692215b67ba0e71d50b320"
      },
      "cell_type": "markdown",
      "source": "#### missing data : `Open`\nUsing pandas.DataFrame.fillna to fill Open with 1."
    },
    {
      "metadata": {
        "_uuid": "4806efe683d6bb2466fcdd660e54dacb23b87563"
      },
      "cell_type": "markdown",
      "source": "#### Code"
    },
    {
      "metadata": {
        "trusted": true,
        "collapsed": true,
        "_uuid": "1a1604148697a5658340784f3b827e6efd672b23"
      },
      "cell_type": "code",
      "source": "test_store_df.Open.fillna(1, inplace=True)",
      "execution_count": 8,
      "outputs": []
    },
    {
      "metadata": {
        "trusted": true,
        "collapsed": true,
        "_uuid": "c83a38ad53905b3eba39bec3728bb0edd7455cbe"
      },
      "cell_type": "code",
      "source": "#test\ntest_store_df.CompetitionDistance.fillna(0, inplace=True)\ntest_store_df.CompetitionOpenSinceMonth.fillna(0, inplace=True)\ntest_store_df.CompetitionOpenSinceYear.fillna(0, inplace=True)\n\ntest_store_df.Promo2SinceWeek.fillna(0, inplace=True)\ntest_store_df.Promo2SinceYear.fillna(0, inplace=True)\ntest_store_df.PromoInterval.fillna(0, inplace=True)",
      "execution_count": 9,
      "outputs": []
    },
    {
      "metadata": {
        "_uuid": "c09feea434d824a0c153034be3a6715688854ccc"
      },
      "cell_type": "markdown",
      "source": "#### Test"
    },
    {
      "metadata": {
        "trusted": true,
        "_uuid": "678631c473b283e573e279b3d1a88dae5bc8f23a",
        "collapsed": true
      },
      "cell_type": "code",
      "source": "",
      "execution_count": null,
      "outputs": []
    },
    {
      "metadata": {
        "scrolled": true,
        "trusted": true,
        "_uuid": "b4aea0ef67fb20f1a3e692ba535fe4f0a3a1d77b",
        "collapsed": true
      },
      "cell_type": "code",
      "source": "",
      "execution_count": null,
      "outputs": []
    },
    {
      "metadata": {
        "_uuid": "8f1056e1ca5f1326f09d5a66239b2c400e5c6413"
      },
      "cell_type": "markdown",
      "source": "## EDA"
    },
    {
      "metadata": {
        "_uuid": "e85d1dc9309106ddae705dbbcb1e80d69588aed9"
      },
      "cell_type": "markdown",
      "source": "### Univariate Analysis"
    },
    {
      "metadata": {
        "_uuid": "8571ee5552d754b02c7ee12f65d6704b8427587a"
      },
      "cell_type": "markdown",
      "source": "#### Sales"
    },
    {
      "metadata": {
        "trusted": true,
        "_uuid": "f51287c9180ecea11167ba1f715cfa15858d6cc1",
        "collapsed": true
      },
      "cell_type": "code",
      "source": "",
      "execution_count": null,
      "outputs": []
    },
    {
      "metadata": {
        "trusted": true,
        "_uuid": "6a77000e07a29f64af1529cb0719cb0f3576975b",
        "collapsed": true
      },
      "cell_type": "code",
      "source": "",
      "execution_count": null,
      "outputs": []
    },
    {
      "metadata": {
        "trusted": true,
        "_uuid": "0ebecc2eaac815f391de09b6101f57376a3090ad",
        "collapsed": true
      },
      "cell_type": "code",
      "source": "",
      "execution_count": null,
      "outputs": []
    },
    {
      "metadata": {
        "trusted": true,
        "_uuid": "794472999b9cf4630f3c9166f101e402c6801a05",
        "collapsed": true
      },
      "cell_type": "code",
      "source": "",
      "execution_count": null,
      "outputs": []
    },
    {
      "metadata": {
        "_uuid": "f1fe368ae5619889db3a110c8829ac19479e281c"
      },
      "cell_type": "markdown",
      "source": "Sales is positive skewed distribution。"
    },
    {
      "metadata": {
        "_uuid": "8b10df5d70ac9244fd0bbc886ede2d3ddcf4f056"
      },
      "cell_type": "markdown",
      "source": "#### Date"
    },
    {
      "metadata": {
        "trusted": true,
        "_uuid": "b4bc6d722e3de2c182e8164d5ad397cf0d8c3d2d",
        "collapsed": true
      },
      "cell_type": "code",
      "source": "",
      "execution_count": null,
      "outputs": []
    },
    {
      "metadata": {
        "trusted": true,
        "_uuid": "ffb724f29bb8538b28524cadfa20710045005b14",
        "collapsed": true
      },
      "cell_type": "code",
      "source": "",
      "execution_count": null,
      "outputs": []
    },
    {
      "metadata": {
        "trusted": true,
        "_uuid": "9c56c508769555cf59e429dbe57dc3449b74ddc4",
        "collapsed": true
      },
      "cell_type": "code",
      "source": "",
      "execution_count": null,
      "outputs": []
    },
    {
      "metadata": {
        "trusted": true,
        "_uuid": "14079b1dff6a4cf494a8a38f33ad5255fde86837",
        "collapsed": true
      },
      "cell_type": "code",
      "source": "",
      "execution_count": null,
      "outputs": []
    },
    {
      "metadata": {
        "_uuid": "e1cc532a6a84f514c1bd20e192d68473537631e1"
      },
      "cell_type": "markdown",
      "source": "The Date in train data is from 2013-01-01 to 2015-07-31, while the date in test data is from 2015-08-01 to 2015-09-17."
    },
    {
      "metadata": {
        "_uuid": "fed4eddab18ad051b77b22b2928eaf1bdb4d2f6c"
      },
      "cell_type": "markdown",
      "source": "#### Customers"
    },
    {
      "metadata": {
        "trusted": true,
        "_uuid": "6c0b49fff5af871fd4626520bf19e0c43ccbad71",
        "collapsed": true
      },
      "cell_type": "code",
      "source": "",
      "execution_count": null,
      "outputs": []
    },
    {
      "metadata": {
        "trusted": true,
        "_uuid": "10895552ed8edb34a4d44a9166551e157d9f3ef3",
        "collapsed": true
      },
      "cell_type": "code",
      "source": "",
      "execution_count": null,
      "outputs": []
    },
    {
      "metadata": {
        "trusted": true,
        "_uuid": "a117597e3eecd1149afad6b2b5f2d28522f2db1f",
        "collapsed": true
      },
      "cell_type": "code",
      "source": "",
      "execution_count": null,
      "outputs": []
    },
    {
      "metadata": {
        "_uuid": "8b6b01ae619956fa45cb3e9559ea7238e9d74ca7"
      },
      "cell_type": "markdown",
      "source": "Customers has a lot of zero values and is positive skewed distribution."
    },
    {
      "metadata": {
        "_uuid": "27ea643017919cba01a9185d3565485258c2261f"
      },
      "cell_type": "markdown",
      "source": "#### CompetitionDistance"
    },
    {
      "metadata": {
        "trusted": true,
        "_uuid": "342e7a414629c000ff826722c5eaf02098d89c11",
        "collapsed": true
      },
      "cell_type": "code",
      "source": "",
      "execution_count": null,
      "outputs": []
    },
    {
      "metadata": {
        "trusted": true,
        "_uuid": "ba80ca78666a138937e4b3fa049a18b34f753bfd",
        "collapsed": true
      },
      "cell_type": "code",
      "source": "",
      "execution_count": null,
      "outputs": []
    },
    {
      "metadata": {
        "_uuid": "6da25bb197c865e7c9d348e01c4f7ed97605b645"
      },
      "cell_type": "markdown",
      "source": "CompetitionDistance is positive skewed distribution."
    },
    {
      "metadata": {
        "_uuid": "52a9b2ed563e949b5eb0bc874682aba0f52c8e52"
      },
      "cell_type": "markdown",
      "source": "#### CompetitionOpenSinceMonth"
    },
    {
      "metadata": {
        "trusted": true,
        "_uuid": "9abcf680fdaacadc8909459f36f3ea1ae8a61cc3",
        "collapsed": true
      },
      "cell_type": "code",
      "source": "",
      "execution_count": null,
      "outputs": []
    },
    {
      "metadata": {
        "trusted": true,
        "_uuid": "f4b37d5837827eec97f28529ff84fb3c6391f237"
      },
      "cell_type": "code",
      "source": "train_store_df.CompetitionOpenSinceMonth.value_counts()",
      "execution_count": 10,
      "outputs": [
        {
          "output_type": "execute_result",
          "execution_count": 10,
          "data": {
            "text/plain": "0.0     323348\n9.0     114254\n4.0      87076\n11.0     84455\n3.0      63548\n7.0      59434\n12.0     57896\n10.0     55622\n6.0      45444\n5.0      39608\n2.0      37886\n8.0      36186\n1.0      12452\nName: CompetitionOpenSinceMonth, dtype: int64"
          },
          "metadata": {}
        }
      ]
    },
    {
      "metadata": {
        "_uuid": "d54d90848406d00ebeef1872b6fd56831e0956ad"
      },
      "cell_type": "markdown",
      "source": "The zero value accounts for the majority."
    },
    {
      "metadata": {
        "_uuid": "d3d094169e1169b0ca9a3f4c99fd5767440d0234"
      },
      "cell_type": "markdown",
      "source": "#### CompetitionOpenSinceYear"
    },
    {
      "metadata": {
        "trusted": true,
        "_uuid": "a4575385f3acf517badd53bb9438fbb27950778f",
        "collapsed": true
      },
      "cell_type": "code",
      "source": "",
      "execution_count": null,
      "outputs": []
    },
    {
      "metadata": {
        "trusted": true,
        "_uuid": "2692492b033e5045f2818a8c0bcf95bb6270c74d",
        "collapsed": true
      },
      "cell_type": "code",
      "source": "",
      "execution_count": null,
      "outputs": []
    },
    {
      "metadata": {
        "_uuid": "625468c303c05577a17e9fdb8e638bdd48b95c93"
      },
      "cell_type": "markdown",
      "source": "The zero value accounts for the majority."
    },
    {
      "metadata": {
        "_uuid": "3a16fe8f7d230d3d35b5cabe4aaa2d4f747cdf32"
      },
      "cell_type": "markdown",
      "source": "#### Promo2SinceWeek"
    },
    {
      "metadata": {
        "trusted": true,
        "_uuid": "2b2ad8f22dfa8f89be1483c47312e241350972fa",
        "collapsed": true
      },
      "cell_type": "code",
      "source": "",
      "execution_count": null,
      "outputs": []
    },
    {
      "metadata": {
        "trusted": true,
        "_uuid": "a61c2b385d67ae262b2e0bd067b7006173ad9269",
        "collapsed": true
      },
      "cell_type": "code",
      "source": "",
      "execution_count": null,
      "outputs": []
    },
    {
      "metadata": {
        "_uuid": "c1089bcddcbbbd8bab60dd7a4cbd55d838144cf6"
      },
      "cell_type": "markdown",
      "source": "The zero value accounts for the majority."
    },
    {
      "metadata": {
        "_uuid": "53de55d157e4fd9652822ea9bec0ba71ea00f902"
      },
      "cell_type": "markdown",
      "source": "#### Promo2SinceYear"
    },
    {
      "metadata": {
        "trusted": true,
        "_uuid": "5fc7c4cab844f7ca160672620ebf03a9cc227c6d",
        "collapsed": true
      },
      "cell_type": "code",
      "source": "",
      "execution_count": null,
      "outputs": []
    },
    {
      "metadata": {
        "trusted": true,
        "_uuid": "83494dd23f5d7d4691e2ad94b6394d766377a84c"
      },
      "cell_type": "code",
      "source": "train_store_df.Promo2SinceYear.value_counts()",
      "execution_count": 11,
      "outputs": [
        {
          "output_type": "execute_result",
          "execution_count": 11,
          "data": {
            "text/plain": "0.0       508031\n2011.0    115056\n2013.0    110464\n2014.0     79922\n2012.0     73174\n2009.0     65270\n2010.0     56240\n2015.0      9052\nName: Promo2SinceYear, dtype: int64"
          },
          "metadata": {}
        }
      ]
    },
    {
      "metadata": {
        "_uuid": "4e39a8164b8e49f7209b438dcc0bbefa56c46dfd"
      },
      "cell_type": "markdown",
      "source": "The zero value accounts for the majority."
    },
    {
      "metadata": {
        "_uuid": "2e0e41d3e7b4fb8c25d72f20b46683bb14c45308"
      },
      "cell_type": "markdown",
      "source": "#### PromoInterval"
    },
    {
      "metadata": {
        "trusted": true,
        "_uuid": "68e2fd74ab6c1ea5ca6249bb0930f930e1ff6728",
        "collapsed": true
      },
      "cell_type": "code",
      "source": "",
      "execution_count": null,
      "outputs": []
    },
    {
      "metadata": {
        "trusted": true,
        "_uuid": "bce524fc084510ea676f740eb5d10a1b7fa8b669",
        "collapsed": true
      },
      "cell_type": "code",
      "source": "",
      "execution_count": null,
      "outputs": []
    },
    {
      "metadata": {
        "_uuid": "0a00d6c75a4581ca39933b7709204ab8b239c4ac"
      },
      "cell_type": "markdown",
      "source": "The zero value accounts for the majority. Jan,Apr,Jul,Oct follows the following."
    },
    {
      "metadata": {
        "_uuid": "ded93ff1353a97645945598447b039282e25a050"
      },
      "cell_type": "markdown",
      "source": "### Construct some new variables"
    },
    {
      "metadata": {
        "_uuid": "37cf58e13030ebab7c02f8d69fb233432f1c9307"
      },
      "cell_type": "markdown",
      "source": "#### Construct new variables `Year`, `Month`, `Day` and `WeekOfYear`  based on `Date` ."
    },
    {
      "metadata": {
        "trusted": true,
        "collapsed": true,
        "_uuid": "ff18c0e7cae6e3dbfd221f301ce1ea0aecfab7e7"
      },
      "cell_type": "code",
      "source": "#train_store_df\ntrain_store_df['Year'] = train_store_df.Date.dt.year\ntrain_store_df['Month'] = train_store_df.Date.dt.month\ntrain_store_df['Day'] = train_store_df.Date.dt.day\ntrain_store_df['WeekOfYear'] = train_store_df.Date.dt.weekofyear",
      "execution_count": 12,
      "outputs": []
    },
    {
      "metadata": {
        "trusted": true,
        "collapsed": true,
        "_uuid": "520e0a76a5c90d2f80f5118e8889e2172e26205d"
      },
      "cell_type": "code",
      "source": "#test_store_df\ntest_store_df['Year'] = test_store_df.Date.dt.year\ntest_store_df['Month'] = test_store_df.Date.dt.month\ntest_store_df['Day'] = test_store_df.Date.dt.day\ntest_store_df['WeekOfYear'] = test_store_df.Date.dt.weekofyear",
      "execution_count": 13,
      "outputs": []
    },
    {
      "metadata": {
        "_uuid": "2de1537b0147baf7379e36748363f2e79bb7cbee"
      },
      "cell_type": "markdown",
      "source": "CompetionOpen en PromoOpen from https://www.kaggle.com/ananya77041/rossmann-store-sales/randomforestpython/code"
    },
    {
      "metadata": {
        "_uuid": "585520ef27608d3080ab043406db259063917384"
      },
      "cell_type": "markdown",
      "source": "#### Construct new variables `CompetitionOpen`"
    },
    {
      "metadata": {
        "trusted": true,
        "collapsed": true,
        "_uuid": "c51026265b846751ed3c4c857dda7a1daf47101f"
      },
      "cell_type": "code",
      "source": "#train_store_df\ntrain_store_df['CompetitionOpen'] = 12*(train_store_df.Year - train_store_df.CompetitionOpenSinceYear) + \\\n                                   (train_store_df.Month - train_store_df.CompetitionOpenSinceMonth)\n#test_store_df\ntest_store_df['CompetitionOpen'] = 12*(test_store_df.Year - test_store_df.CompetitionOpenSinceYear) + \\\n                                   (test_store_df.Month - test_store_df.CompetitionOpenSinceMonth)",
      "execution_count": 14,
      "outputs": []
    },
    {
      "metadata": {
        "_uuid": "03813a60aede31526d3e24de1b7a1122997f770f"
      },
      "cell_type": "markdown",
      "source": "#### Construct new variables `PromoOpen` "
    },
    {
      "metadata": {
        "trusted": true,
        "collapsed": true,
        "_uuid": "611d6b2a341b389c3e4b48d29623b78f4b834f3e"
      },
      "cell_type": "code",
      "source": "#train_store_df\ntrain_store_df['PromoOpen'] = 12*(train_store_df.Year - train_store_df.Promo2SinceYear) + \\\n                                 (train_store_df.WeekOfYear - train_store_df.Promo2SinceWeek) / 4.0\n\ntrain_store_df['PromoOpen'] = train_store_df.PromoOpen.apply(lambda x: x if x > 0 else 0)\ntrain_store_df.loc[train_store_df.Promo2SinceYear == 0, 'PromoOpen'] = 0\n\n#test_store_df\ntest_store_df['PromoOpen'] = 12*(test_store_df.Year - test_store_df.Promo2SinceYear) + \\\n                                (test_store_df.WeekOfYear - test_store_df.Promo2SinceWeek) / 4.0\n\ntest_store_df['PromoOpen'] = test_store_df.PromoOpen.apply(lambda x: x if x > 0 else 0)\ntest_store_df.loc[test_store_df.Promo2SinceYear == 0, 'PromoOpen'] = 0",
      "execution_count": 15,
      "outputs": []
    },
    {
      "metadata": {
        "_uuid": "390398fbf21fd7b7d73fdb8654cc86b729f8f7d2"
      },
      "cell_type": "markdown",
      "source": "### Bivariate Analysis"
    },
    {
      "metadata": {
        "_uuid": "a28beb7367b8de926d01704b2acc0c1af69d4b8e"
      },
      "cell_type": "markdown",
      "source": "#### Sales & Open"
    },
    {
      "metadata": {
        "trusted": true,
        "_uuid": "d824d001537ccef6d4bf6acc8ad6a6bdf573a7dc",
        "collapsed": true
      },
      "cell_type": "code",
      "source": "",
      "execution_count": null,
      "outputs": []
    },
    {
      "metadata": {
        "scrolled": true,
        "trusted": true,
        "_uuid": "8f9eedf577d8de769eb81b1cb39391be1117343e",
        "collapsed": true
      },
      "cell_type": "code",
      "source": "",
      "execution_count": null,
      "outputs": []
    },
    {
      "metadata": {
        "scrolled": true,
        "trusted": true,
        "_uuid": "53067a940359cb9a22f665860cf2bb4c27dd5094",
        "collapsed": true
      },
      "cell_type": "code",
      "source": "",
      "execution_count": null,
      "outputs": []
    },
    {
      "metadata": {
        "_uuid": "7b015bff825296eec2ca692f63f49d83c280a220"
      },
      "cell_type": "markdown",
      "source": "There are some opened stores which have zero sales."
    },
    {
      "metadata": {
        "_uuid": "02685d3a819b6d7158d5c96214df18066ed0a77a"
      },
      "cell_type": "markdown",
      "source": "#### Analysis of sales!=0 and open != 0"
    },
    {
      "metadata": {
        "scrolled": true,
        "trusted": true,
        "collapsed": true,
        "_uuid": "157fc36113d9623662979804361d488bdb3001da"
      },
      "cell_type": "code",
      "source": "train_store_sales_df = train_store_df[(train_store_df.Sales != 0) & (train_store_df.Open != 0)]",
      "execution_count": 16,
      "outputs": []
    },
    {
      "metadata": {
        "trusted": true,
        "_uuid": "2d90fad3b2a4ba3b0da9c420aa8f3b562a19a5a5",
        "collapsed": true
      },
      "cell_type": "code",
      "source": "",
      "execution_count": null,
      "outputs": []
    },
    {
      "metadata": {
        "_uuid": "e60e435b923e126c25882b7d73e537a3831e89e2"
      },
      "cell_type": "markdown",
      "source": "####  Sales & DayOfWeek"
    },
    {
      "metadata": {
        "trusted": true,
        "_uuid": "7164f531407b64c9e63746ac68adade7f46adc1f",
        "collapsed": true
      },
      "cell_type": "code",
      "source": "",
      "execution_count": null,
      "outputs": []
    },
    {
      "metadata": {
        "scrolled": false,
        "trusted": true,
        "collapsed": true,
        "_uuid": "42998bcfee17590a529b956f292efffa40b0de9b"
      },
      "cell_type": "code",
      "source": "",
      "execution_count": null,
      "outputs": []
    },
    {
      "metadata": {
        "_uuid": "15e65d18d6d69943768f63d07d040a310e522e63"
      },
      "cell_type": "markdown",
      "source": "Sales on Saturday are the lowest."
    },
    {
      "metadata": {
        "trusted": true,
        "collapsed": true,
        "_uuid": "753d6e99df34cfe9ebdd23a071fe09801feeaff4"
      },
      "cell_type": "code",
      "source": "",
      "execution_count": null,
      "outputs": []
    },
    {
      "metadata": {
        "_uuid": "010db6e17020fff9a89aa94ff70c3385a5302d4b"
      },
      "cell_type": "markdown",
      "source": "There seems to be some abnormal points. The daily sales are almost the same."
    },
    {
      "metadata": {
        "_uuid": "5b4403d1a277f06b8fe6e5dcf7af2b91b2a7430a"
      },
      "cell_type": "markdown",
      "source": "####  Sales & WeekOfYear"
    },
    {
      "metadata": {
        "trusted": true,
        "collapsed": true,
        "_uuid": "e814a966274bf46ec20d63a4a6fb652623188b81"
      },
      "cell_type": "code",
      "source": "",
      "execution_count": null,
      "outputs": []
    },
    {
      "metadata": {
        "_uuid": "d878e9d2287e6cf1bc7799221a5f55c0d37a691f"
      },
      "cell_type": "markdown",
      "source": "#### Sales & Year"
    },
    {
      "metadata": {
        "trusted": true,
        "collapsed": true,
        "_uuid": "70c984fdf18e00fdc1595e4043715de7c7e60cc6"
      },
      "cell_type": "code",
      "source": "",
      "execution_count": null,
      "outputs": []
    },
    {
      "metadata": {
        "trusted": true,
        "collapsed": true,
        "_uuid": "4cf564fe85491a7a5ae0ede7d2187af479bea576"
      },
      "cell_type": "code",
      "source": "",
      "execution_count": null,
      "outputs": []
    },
    {
      "metadata": {
        "_uuid": "4728575ce67a9131c32dc730c40d80ef58545863"
      },
      "cell_type": "markdown",
      "source": "The three years sales are almost the same."
    },
    {
      "metadata": {
        "_uuid": "26162458d477a4966450e57cfa1b435d2e31fee8"
      },
      "cell_type": "markdown",
      "source": "#### Sales & Month"
    },
    {
      "metadata": {
        "trusted": true,
        "collapsed": true,
        "_uuid": "9c4c6b7f357734f58329a47ff37e02e785a350b4"
      },
      "cell_type": "code",
      "source": "",
      "execution_count": null,
      "outputs": []
    },
    {
      "metadata": {
        "_uuid": "16bac792fca9b0804e3f902dc4b16a9ae14e3de7"
      },
      "cell_type": "markdown",
      "source": "The December sales is the largest."
    },
    {
      "metadata": {
        "_uuid": "5250fff2f38cf70fa42ad67ff241499b4619a722"
      },
      "cell_type": "markdown",
      "source": "#### Sales & Day"
    },
    {
      "metadata": {
        "trusted": true,
        "collapsed": true,
        "_uuid": "224c10bdb57e3367b95e990e41e9cf4896036589"
      },
      "cell_type": "code",
      "source": "",
      "execution_count": null,
      "outputs": []
    },
    {
      "metadata": {
        "_uuid": "869959b5e65968932f0a9096ab9b739113c15c95"
      },
      "cell_type": "markdown",
      "source": "we see that sales are the most at the beginning of the month, the monthly, and the end of the month.\nThere is a strong rule between the two variables."
    },
    {
      "metadata": {
        "_uuid": "ae7b453b8f3e70de3a046710bcd99906038557fd"
      },
      "cell_type": "markdown",
      "source": "#### Sales & Customers"
    },
    {
      "metadata": {
        "trusted": true,
        "collapsed": true,
        "_uuid": "81eac2292950d5b3e73f9f70b2d1122950fae992"
      },
      "cell_type": "code",
      "source": "",
      "execution_count": null,
      "outputs": []
    },
    {
      "metadata": {
        "trusted": true,
        "collapsed": true,
        "_uuid": "c6252270ed711144e0ce24422401910e76ad53d7"
      },
      "cell_type": "code",
      "source": "",
      "execution_count": null,
      "outputs": []
    },
    {
      "metadata": {
        "_uuid": "7d2c05dd41385b135eed794719560581b8765b06"
      },
      "cell_type": "markdown",
      "source": "There is a strong positive correlation between sales and customer."
    },
    {
      "metadata": {
        "_uuid": "0110a855a42afb62edb475c42dfe48fbf64b4dfa"
      },
      "cell_type": "markdown",
      "source": "#### Sales & Promo"
    },
    {
      "metadata": {
        "trusted": true,
        "collapsed": true,
        "_uuid": "1eabfbbc6af5cf02d63e9857fb6ee729da15e46c"
      },
      "cell_type": "code",
      "source": "",
      "execution_count": null,
      "outputs": []
    },
    {
      "metadata": {
        "trusted": true,
        "collapsed": true,
        "_uuid": "ff944d612524e86b14fdf0680bb8b39723df0f55"
      },
      "cell_type": "code",
      "source": "",
      "execution_count": null,
      "outputs": []
    },
    {
      "metadata": {
        "_uuid": "c5b5179c07193031de96ae886caa2391d3ab6cc0"
      },
      "cell_type": "markdown",
      "source": "We can know that promotion is benifit to improve sales."
    },
    {
      "metadata": {
        "_uuid": "a7f1316a2b78da70a5d4b9a3325fdd5b50c99b9d"
      },
      "cell_type": "markdown",
      "source": "#### Sales & StateHoliday"
    },
    {
      "metadata": {
        "trusted": true,
        "_uuid": "076d0bef360d38c7a54be6e3df9b2798ab384fea"
      },
      "cell_type": "code",
      "source": "train_store_sales_df.StateHoliday = train_store_sales_df.StateHoliday.astype('str')\ntrain_store_sales_df[train_store_sales_df.StateHoliday == '0'].StateHoliday = train_store_sales_df[train_store_sales_df.StateHoliday == '0'].StateHoliday.astype('int')",
      "execution_count": 17,
      "outputs": [
        {
          "output_type": "stream",
          "text": "/opt/conda/lib/python3.6/site-packages/pandas/core/generic.py:3643: SettingWithCopyWarning: \nA value is trying to be set on a copy of a slice from a DataFrame.\nTry using .loc[row_indexer,col_indexer] = value instead\n\nSee the caveats in the documentation: http://pandas.pydata.org/pandas-docs/stable/indexing.html#indexing-view-versus-copy\n  self[name] = value\n",
          "name": "stderr"
        }
      ]
    },
    {
      "metadata": {
        "trusted": true,
        "collapsed": true,
        "_uuid": "dd11e07a2211ba2397f8a22835c7c8ef3e77ade0"
      },
      "cell_type": "code",
      "source": "",
      "execution_count": null,
      "outputs": []
    },
    {
      "metadata": {
        "trusted": true,
        "collapsed": true,
        "_uuid": "6dcb4aa89e6a452ccdaff2390e1c952bc58904cc"
      },
      "cell_type": "code",
      "source": "",
      "execution_count": null,
      "outputs": []
    },
    {
      "metadata": {
        "_uuid": "885db96b060ad9293bc8c4e78d9bcdf80779eeca"
      },
      "cell_type": "markdown",
      "source": "#### Sales & SchoolHoliday"
    },
    {
      "metadata": {
        "trusted": true,
        "collapsed": true,
        "_uuid": "5b9010ffc7a57489f8a306fbe93fdabddbe613d9"
      },
      "cell_type": "code",
      "source": "",
      "execution_count": null,
      "outputs": []
    },
    {
      "metadata": {
        "trusted": true,
        "collapsed": true,
        "_uuid": "a406870d68028604ad3749dcb2595880db5544f2"
      },
      "cell_type": "code",
      "source": "",
      "execution_count": null,
      "outputs": []
    },
    {
      "metadata": {
        "_uuid": "776bcf35f36812fdcbc676b34107fc8a5e6ed813"
      },
      "cell_type": "markdown",
      "source": "#### Sales & StoreType"
    },
    {
      "metadata": {
        "trusted": true,
        "collapsed": true,
        "_uuid": "9e2d0c5c5c58156da234d2b025d0a71c0a34c154"
      },
      "cell_type": "code",
      "source": "",
      "execution_count": null,
      "outputs": []
    },
    {
      "metadata": {
        "trusted": true,
        "collapsed": true,
        "_uuid": "f3a773de5dbf395a7abe547b205d0fbdbf64c8d2"
      },
      "cell_type": "code",
      "source": "",
      "execution_count": null,
      "outputs": []
    },
    {
      "metadata": {
        "_uuid": "19b4957f23ff54d7b1b6ec1f8ce8112128d0c551"
      },
      "cell_type": "markdown",
      "source": "Store sales of 'b' type are the most."
    },
    {
      "metadata": {
        "_uuid": "2f3b3d34b5f338ea56f569daa1e6dd19e9d7b620"
      },
      "cell_type": "markdown",
      "source": "#### Sales & Assortment"
    },
    {
      "metadata": {
        "trusted": true,
        "collapsed": true,
        "_uuid": "ed66067e2dc5a9c6ff1dfd3eaaccf0340b5cb7ac"
      },
      "cell_type": "code",
      "source": "",
      "execution_count": null,
      "outputs": []
    },
    {
      "metadata": {
        "trusted": true,
        "collapsed": true,
        "_uuid": "b0e3e7fcda191cd21c44a3bfcbfa4e768bf676d9"
      },
      "cell_type": "code",
      "source": "",
      "execution_count": null,
      "outputs": []
    },
    {
      "metadata": {
        "_uuid": "e9c37d7b47d497514f8d6a9f8a81ec83dd173327"
      },
      "cell_type": "markdown",
      "source": "Store sales of  'b' assortment are the most."
    },
    {
      "metadata": {
        "_uuid": "d3e4729b45cd32d1460f085aef50118e75510395"
      },
      "cell_type": "markdown",
      "source": "#### Sales & CompetitionDistance"
    },
    {
      "metadata": {
        "trusted": true,
        "collapsed": true,
        "_uuid": "a472106222f2b2496aabf12966bc2d6fee2ab937"
      },
      "cell_type": "code",
      "source": "",
      "execution_count": null,
      "outputs": []
    },
    {
      "metadata": {
        "_uuid": "f84f27ef59f3d612502b140685c30f4370bd702b"
      },
      "cell_type": "markdown",
      "source": "There is no correlation between sales and CompetitionDistance."
    },
    {
      "metadata": {
        "_uuid": "45694f51771b861345cf12f8547ed9f0d19e9175"
      },
      "cell_type": "markdown",
      "source": "#### Sales & CompetitionOpen"
    },
    {
      "metadata": {
        "trusted": true,
        "collapsed": true,
        "_uuid": "108d0a1c6e940add9026d7d3b116648e8f8d46a2"
      },
      "cell_type": "code",
      "source": "",
      "execution_count": null,
      "outputs": []
    },
    {
      "metadata": {
        "_uuid": "fd1419974859d91b758bd9dac3d268ff5ac143b1"
      },
      "cell_type": "markdown",
      "source": "There is a weak rule between sales and CompetitionOpen."
    },
    {
      "metadata": {
        "_uuid": "8c0dd45dafa502bcd48bb54e8e0b9171dc6001dc"
      },
      "cell_type": "markdown",
      "source": "#### Sales & Promo2"
    },
    {
      "metadata": {
        "trusted": true,
        "collapsed": true,
        "_uuid": "7f86146fd2a725b79d1dedc76d804f5cc5d281e4"
      },
      "cell_type": "code",
      "source": "",
      "execution_count": null,
      "outputs": []
    },
    {
      "metadata": {
        "trusted": true,
        "collapsed": true,
        "_uuid": "6026ea9c7ad2ce5b8b6739fe5a908fdce96f285d"
      },
      "cell_type": "code",
      "source": "",
      "execution_count": null,
      "outputs": []
    },
    {
      "metadata": {
        "_uuid": "37ad9b5538e1de77785d4f541513e32af8d14857"
      },
      "cell_type": "markdown",
      "source": "The stores with promos tend to make lower sales. This does not necessary mean that the promos don’t help or are counterproductive. They are possibly measures that are taken mainly by stores with low sales in the first place."
    },
    {
      "metadata": {
        "_uuid": "5147ce90ed10f4acef99f7c52cbce12918972e36"
      },
      "cell_type": "markdown",
      "source": "#### Sales & PromoOpen"
    },
    {
      "metadata": {
        "scrolled": false,
        "trusted": true,
        "collapsed": true,
        "_uuid": "5f8cbb00855e2d19020853d1866eb59b7b6084c2"
      },
      "cell_type": "code",
      "source": "",
      "execution_count": null,
      "outputs": []
    },
    {
      "metadata": {
        "_uuid": "7461c39132b8267738d07860bb81d4c1f615c8a9"
      },
      "cell_type": "markdown",
      "source": "It seems that the longer the time is, the bigger the sales are."
    },
    {
      "metadata": {
        "_uuid": "947cc495f5297dc56ea54898235395102047f4a2"
      },
      "cell_type": "markdown",
      "source": "There is no correlation between sales and Promo2SinceYear."
    },
    {
      "metadata": {
        "_uuid": "1ec8d7054e698727f870a019459c79273f598834"
      },
      "cell_type": "markdown",
      "source": "#### Sales & PromoInterval"
    },
    {
      "metadata": {
        "trusted": true,
        "collapsed": true,
        "_uuid": "c8edb61eab6deb8c7413b9913a707ff54ab44bb4"
      },
      "cell_type": "code",
      "source": "",
      "execution_count": null,
      "outputs": []
    },
    {
      "metadata": {
        "trusted": true,
        "collapsed": true,
        "_uuid": "606965f23d86bd2dfd0455491d69bafbdc2f1fc2"
      },
      "cell_type": "code",
      "source": "",
      "execution_count": null,
      "outputs": []
    },
    {
      "metadata": {
        "_uuid": "7ec17bcce42389104321364a967f5cbc8f293414"
      },
      "cell_type": "markdown",
      "source": "There is no correlation between sales and PromoInterval."
    },
    {
      "metadata": {
        "_uuid": "b3bdd33db8c394a1b368aed88353ec5112796717"
      },
      "cell_type": "markdown",
      "source": "#### Brief Summary"
    },
    {
      "metadata": {
        "_uuid": "01d564b1c828dc3c1a0f3ac7869358483c01eb91"
      },
      "cell_type": "markdown",
      "source": "From above bivariate analysis, we can see that there is a strong positive correlation between sales and customer.\nThere is a certain relationship between variables Sales and  Day, DayofWeek, WeekofYear, CompetitionOpen, PromoOpen."
    },
    {
      "metadata": {
        "_uuid": "282d32ee8b5ea08c0bdd0d1a5be647a3ec60198b"
      },
      "cell_type": "markdown",
      "source": "### Multivariate Analysis"
    },
    {
      "metadata": {
        "_uuid": "ac7cc15d8116cf2ecc641bed10be15f2d898be9f"
      },
      "cell_type": "markdown",
      "source": "#### Sales & DayOfWeek & StoreType & Promo "
    },
    {
      "metadata": {
        "trusted": true,
        "collapsed": true,
        "_uuid": "4f7534f35dc0a614c4c8ac19b839c97b9daf8e1f"
      },
      "cell_type": "code",
      "source": "",
      "execution_count": null,
      "outputs": []
    },
    {
      "metadata": {
        "_uuid": "33ce77b51f486f4267850ba0802bb28622ead97d"
      },
      "cell_type": "markdown",
      "source": "We can see that stores are never promoted at the weekend."
    },
    {
      "metadata": {
        "_uuid": "98363ebf08c6aae869205b3ee60a35b1ec739a96"
      },
      "cell_type": "markdown",
      "source": "#### Sales & WeekOfYear & StoreType & Promo "
    },
    {
      "metadata": {
        "trusted": true,
        "collapsed": true,
        "_uuid": "e53b974fdf9549fcbe77e5b79703effcd55d94ea"
      },
      "cell_type": "code",
      "source": "",
      "execution_count": null,
      "outputs": []
    },
    {
      "metadata": {
        "_uuid": "34c0c7ab149621b116ebec351d105926ad294266"
      },
      "cell_type": "markdown",
      "source": "#### Sales & Month & StoreType & Promo "
    },
    {
      "metadata": {
        "scrolled": false,
        "trusted": true,
        "collapsed": true,
        "_uuid": "5a6e3b4a04ffd10a6d57b251183ed9ffad7ab80b"
      },
      "cell_type": "code",
      "source": "",
      "execution_count": null,
      "outputs": []
    },
    {
      "metadata": {
        "_uuid": "37b24f975a0721f691edbdd7f86a2a021296aee3"
      },
      "cell_type": "markdown",
      "source": "Sales promotion can improve sales to a certain extent. There is a distinct increase in sales in the fourth quarter."
    },
    {
      "metadata": {
        "_uuid": "f6086ffdeb69cb7b5d3263c6f19da035c17db238"
      },
      "cell_type": "markdown",
      "source": "#### Sales & Month & Assortment\t & StoreType"
    },
    {
      "metadata": {
        "trusted": true,
        "collapsed": true,
        "_uuid": "f2378772fd4a3fb5284a6a521a1df62fb92f2e00"
      },
      "cell_type": "code",
      "source": "",
      "execution_count": null,
      "outputs": []
    },
    {
      "metadata": {
        "_uuid": "f331e1351e9904815ff381bf10618e919a49eb78"
      },
      "cell_type": "markdown",
      "source": "Only 'b' type stores have 'b' assortment level."
    },
    {
      "metadata": {
        "_uuid": "86860125cea3f6cf212b6f3dc53e358820816f1f"
      },
      "cell_type": "markdown",
      "source": "#### Sales & Day & StoreType & Promo "
    },
    {
      "metadata": {
        "trusted": true,
        "collapsed": true,
        "_uuid": "1b991a9b5992286cef90b17cab9484d66deac9d4"
      },
      "cell_type": "code",
      "source": "",
      "execution_count": null,
      "outputs": []
    },
    {
      "metadata": {
        "_uuid": "19b86c26b740785a7fc9fb840c0a802b88c0108c"
      },
      "cell_type": "markdown",
      "source": "All types of stores have a similar trend, and sales are the most at the beginning of the month, the monthly, and the end of the month."
    },
    {
      "metadata": {
        "_uuid": "ef80d6fd7b971b054008aae54f1e520999a1a025"
      },
      "cell_type": "markdown",
      "source": "#### Sales & Month & DayOfWeek & StoreType"
    },
    {
      "metadata": {
        "trusted": true,
        "collapsed": true,
        "_uuid": "18a4ee1848d3b4e9571d455904d47c0ad1c2ee06"
      },
      "cell_type": "code",
      "source": "",
      "execution_count": null,
      "outputs": []
    },
    {
      "metadata": {
        "_uuid": "9838f1f149f2a94813bf2dfe1888253f927aecd2"
      },
      "cell_type": "markdown",
      "source": "We see that stores of StoreType C are all closed on Sundays, whereas others are most of the time opened. Interestingly enough, stores of StoreType D are closed on Sundays only from October to December."
    },
    {
      "metadata": {
        "_uuid": "837c544883ddd78da84f4208b7d40fa6f400f088"
      },
      "cell_type": "markdown",
      "source": "#### Sales & StateHoliday & Promo & StoreType"
    },
    {
      "metadata": {
        "trusted": true,
        "collapsed": true,
        "_uuid": "96e410c15a551632802435e7aab9e7dbf83b302a"
      },
      "cell_type": "code",
      "source": "",
      "execution_count": null,
      "outputs": []
    },
    {
      "metadata": {
        "_uuid": "603bea8efbe8a77870457702d76db7c54f2609f1"
      },
      "cell_type": "markdown",
      "source": "Only B type stores will be promoted on Easter, and there is no promotion on Christmas."
    },
    {
      "metadata": {
        "_uuid": "a1d29e0d6612e46215ea4a80302bb4904ba5506b"
      },
      "cell_type": "markdown",
      "source": "#### Sales & SchoolHoliday & Promo & StoreType"
    },
    {
      "metadata": {
        "trusted": true,
        "collapsed": true,
        "_uuid": "611bae8aaa0f6af1c5590b26a52dcc6918cc8a34"
      },
      "cell_type": "code",
      "source": "",
      "execution_count": null,
      "outputs": []
    },
    {
      "metadata": {
        "_uuid": "bac665799468c9add09b63206009c396626f69aa"
      },
      "cell_type": "markdown",
      "source": ""
    },
    {
      "metadata": {
        "_uuid": "814adc11fc8878a2437f267aa697f4ff835d7e9d"
      },
      "cell_type": "markdown",
      "source": "## Feature Engineering"
    },
    {
      "metadata": {
        "trusted": true,
        "_uuid": "703d5cfd6bd6573ea185b46a797d6ffcdc2540dc"
      },
      "cell_type": "code",
      "source": "train_store_df.info()",
      "execution_count": 18,
      "outputs": [
        {
          "output_type": "stream",
          "text": "<class 'pandas.core.frame.DataFrame'>\nInt64Index: 1017209 entries, 0 to 1017208\nData columns (total 24 columns):\nStore                        1017209 non-null int64\nDayOfWeek                    1017209 non-null int64\nDate                         1017209 non-null datetime64[ns]\nSales                        1017209 non-null int64\nCustomers                    1017209 non-null int64\nOpen                         1017209 non-null int64\nPromo                        1017209 non-null int64\nStateHoliday                 1017209 non-null object\nSchoolHoliday                1017209 non-null int64\nStoreType                    1017209 non-null object\nAssortment                   1017209 non-null object\nCompetitionDistance          1017209 non-null float64\nCompetitionOpenSinceMonth    1017209 non-null float64\nCompetitionOpenSinceYear     1017209 non-null float64\nPromo2                       1017209 non-null int64\nPromo2SinceWeek              1017209 non-null float64\nPromo2SinceYear              1017209 non-null float64\nPromoInterval                1017209 non-null object\nYear                         1017209 non-null int64\nMonth                        1017209 non-null int64\nDay                          1017209 non-null int64\nWeekOfYear                   1017209 non-null int64\nCompetitionOpen              1017209 non-null float64\nPromoOpen                    1017209 non-null float64\ndtypes: datetime64[ns](1), float64(7), int64(12), object(4)\nmemory usage: 194.0+ MB\n",
          "name": "stdout"
        }
      ]
    },
    {
      "metadata": {
        "trusted": true,
        "_uuid": "6367ddc786de85d0e29ad07602d669fc33b41528"
      },
      "cell_type": "code",
      "source": "test_store_df.info()",
      "execution_count": 19,
      "outputs": [
        {
          "output_type": "stream",
          "text": "<class 'pandas.core.frame.DataFrame'>\nInt64Index: 41088 entries, 0 to 41087\nData columns (total 23 columns):\nId                           41088 non-null int64\nStore                        41088 non-null int64\nDayOfWeek                    41088 non-null int64\nDate                         41088 non-null datetime64[ns]\nOpen                         41088 non-null float64\nPromo                        41088 non-null int64\nStateHoliday                 41088 non-null object\nSchoolHoliday                41088 non-null int64\nStoreType                    41088 non-null object\nAssortment                   41088 non-null object\nCompetitionDistance          41088 non-null float64\nCompetitionOpenSinceMonth    41088 non-null float64\nCompetitionOpenSinceYear     41088 non-null float64\nPromo2                       41088 non-null int64\nPromo2SinceWeek              41088 non-null float64\nPromo2SinceYear              41088 non-null float64\nPromoInterval                41088 non-null object\nYear                         41088 non-null int64\nMonth                        41088 non-null int64\nDay                          41088 non-null int64\nWeekOfYear                   41088 non-null int64\nCompetitionOpen              41088 non-null float64\nPromoOpen                    41088 non-null float64\ndtypes: datetime64[ns](1), float64(8), int64(10), object(4)\nmemory usage: 7.5+ MB\n",
          "name": "stdout"
        }
      ]
    },
    {
      "metadata": {
        "_uuid": "192c0d08352f2c167ce89ee6c2c08fdfab55821a"
      },
      "cell_type": "markdown",
      "source": "#### Encoding"
    },
    {
      "metadata": {
        "trusted": true,
        "collapsed": true,
        "_uuid": "05fe12a3233b643058a282a5f815c84b7baad1d9"
      },
      "cell_type": "code",
      "source": "#train\nmappings = {'0':0,'a':1, 'b':2, 'c':3, 'd':4}\ntrain_store_df.StateHoliday.replace(mappings, inplace=True)\ntrain_store_df.StoreType.replace(mappings, inplace=True)\ntrain_store_df.Assortment.replace(mappings, inplace=True)\n\n#test\ntest_store_df.StateHoliday.replace(mappings, inplace=True)\ntest_store_df.StoreType.replace(mappings, inplace=True)\ntest_store_df.Assortment.replace(mappings, inplace=True)",
      "execution_count": 20,
      "outputs": []
    },
    {
      "metadata": {
        "_uuid": "a2163b94c437b8c8a7b03a028aa034f56c7011ab"
      },
      "cell_type": "markdown",
      "source": "#### Choice X,y for training"
    },
    {
      "metadata": {
        "trusted": true,
        "collapsed": true,
        "_uuid": "461d2d6ddf858b328e18a73070b3cd1937acb914"
      },
      "cell_type": "code",
      "source": "#Choice the Date within 2015/7/18-2015/7/31 for valid data.\nXy_valid_df = train_store_df[train_store_df.Date > '7/17/2015']\nXy_train_df = train_store_df[train_store_df.Date <= '7/17/2015']\n\n# Consider only open stores which Sales bigger then zero for training.\ntrain_drop_features = ['Customers', 'Sales','Date','CompetitionOpenSinceMonth','CompetitionOpenSinceYear',\n                       'Promo2SinceWeek','Promo2SinceYear','PromoInterval']\n#train data\nX_train = Xy_train_df[(Xy_train_df.Open != 0 ) & (Xy_train_df.Sales != 0)].drop(train_drop_features, axis=1)\ny_train = Xy_train_df[(Xy_train_df.Open != 0 ) & (Xy_train_df.Sales != 0)].Sales\ny_train = np.log1p(y_train)\n\n#valid data\nX_valid = Xy_valid_df[(Xy_valid_df.Open != 0 ) & (Xy_valid_df.Sales != 0)].drop(train_drop_features, axis=1)\ny_valid = Xy_valid_df[(Xy_valid_df.Open != 0 ) & (Xy_valid_df.Sales != 0)].Sales\ny_valid = np.log1p(y_valid)",
      "execution_count": 21,
      "outputs": []
    },
    {
      "metadata": {
        "trusted": true,
        "collapsed": true,
        "_uuid": "106c43ff3c5abfd868bb3587b9b282498c7e0d0a"
      },
      "cell_type": "code",
      "source": "test_drop_features = ['Id','Date','CompetitionOpenSinceMonth','CompetitionOpenSinceYear', \n                      'Promo2SinceWeek','Promo2SinceYear', 'PromoInterval']\nX_test = test_store_df.drop(test_drop_features, axis=1)",
      "execution_count": 22,
      "outputs": []
    },
    {
      "metadata": {
        "_uuid": "4d27ba28e9c7ed9e0fbec5e496ca4e2a28eb418c"
      },
      "cell_type": "markdown",
      "source": "## Model"
    },
    {
      "metadata": {
        "scrolled": true,
        "trusted": true,
        "collapsed": true,
        "_uuid": "9830124db452a802e8dd5cbb7426cc4fa37b80e4"
      },
      "cell_type": "code",
      "source": "\"\"\"\ndef ToWeight(y):\n    w = np.zeros(y.shape, dtype=float)\n    ind = y != 0\n    w[ind] = 1./(y[ind]**2)\n    return w\n\ndef rmspe(yhat, y):\n    w = ToWeight(y)\n    rmspe = np.sqrt(np.mean( w * (y - yhat)**2 ))\n    return rmspe\n\n\ndef rmspe_xg(yhat, y):\n    # y = y.values\n    y = y.get_label()\n    y = np.exp(y) - 1\n    yhat = np.exp(yhat) - 1\n    w = ToWeight(y)\n    rmspe = np.sqrt(np.mean(w * (y - yhat)**2))\n    return \"rmspe\", rmspe\n\"\"\"\ndef rmspe(y, yhat):\n    return np.sqrt(np.mean((yhat/y-1) ** 2))\n\n#xgboost\ndef rmspe_xg(yhat, y):\n    y = np.expm1(y.get_label())\n    yhat = np.expm1(yhat)\n    return \"rmspe\", rmspe(y,yhat)\n\n#lightgbm\ndef rmspe_lgb(yhat, y):\n    y = np.expm1(y.get_label())\n    yhat = np.expm1(yhat)\n    return \"rmspe\", rmspe(y,yhat), False\n\n#sklearn interface\ndef rmspe_gscv(y, yhat):\n    y = np.expm1(y)\n    yhat = np.expm1(yhat)\n    return rmspe(y, yhat)\n\nrmspe_score = make_scorer(rmspe_gscv)\nkfold = KFold(n_splits=5, random_state=23)",
      "execution_count": 23,
      "outputs": []
    },
    {
      "metadata": {
        "_uuid": "9d958e38bc75275026c1156dece60034255534ff"
      },
      "cell_type": "markdown",
      "source": "#### LightGBM"
    },
    {
      "metadata": {
        "trusted": true,
        "collapsed": true,
        "_uuid": "e00d7724c218689c8288041d64bf43112a6bc59f"
      },
      "cell_type": "code",
      "source": "dtrain = lgb.Dataset(X_train, label=y_train)\ndvalid = lgb.Dataset(X_valid, label=y_valid)",
      "execution_count": 24,
      "outputs": []
    },
    {
      "metadata": {
        "_uuid": "07dd6edac3f6b7f09aa01cd7756b53ef9983423a"
      },
      "cell_type": "markdown",
      "source": "####  Origin Model"
    },
    {
      "metadata": {
        "_uuid": "a436c9c8cf264b59ea00fe01cb3a2dfee10332de"
      },
      "cell_type": "markdown",
      "source": "lgbm_params = {'task': 'train',\n               'boosting_type': 'gbdt',\n               'objective': 'regression',\n               'bagging_seed': 3,\n               'feature_fraction_seed': 2,\n              }"
    },
    {
      "metadata": {
        "_uuid": "7c9327e4f8cedbdcc69e1a0dabff456dbe9ca13f"
      },
      "cell_type": "markdown",
      "source": "%%time\nlgb_model = lgb.train(lgbm_params, dtrain, num_boost_round=10000, valid_sets=[dvalid,dtrain], valid_names=['eval', 'train'], \n                      early_stopping_rounds=50, feval=rmspe_lgb, verbose_eval=True)\nprint(\"Validating\")\nyhat = lgb_model.predict(X_valid)\nerror = rmspe(np.expm1(y_valid), np.expm1(yhat))\nprint('RMSPE: {:.6f}'.format(error))"
    },
    {
      "metadata": {
        "_uuid": "8a5d9a6566219fba9e19cf7804c34eba8f1911dd"
      },
      "cell_type": "markdown",
      "source": "%%time\nlgb_test_prod = lgb_model.predict(X_test)\nlgb_test_prod = np.expm1(lgb_test_prod)\nsub_df = pd.DataFrame({\"Id\":test_store_df[\"Id\"].values})\nsub_df[\"Sales\"] = lgb_test_prod\nsub_df.to_csv(\"origin_lgb_submission.csv\", index=False)"
    },
    {
      "metadata": {
        "_uuid": "8e297fc151aee55439709df1fb6af347ea57f2e2"
      },
      "cell_type": "markdown",
      "source": "#### lmproment Model after Tuning"
    },
    {
      "metadata": {
        "trusted": true,
        "_uuid": "809a924783f166ff6382b205d7b174f9ef2b3433",
        "collapsed": true
      },
      "cell_type": "code",
      "source": "lgbm_params = {\n    'task': 'train',\n    'boosting_type': 'gbdt',\n    'objective': 'regression',\n    \"learning_rate\": 1,\n    \"num_leaves\": 140,\n    \"max_bin\": 255,\n    \"min_data_in_leaf \": 20,\n    'device': 'gpu',\n    'gpu_platform_id': 0,\n    'gpu_device_id': 0\n    }\nlgb_best_params = {}\nlgb_best_params[\"num_leaves\"] = 140",
      "execution_count": 25,
      "outputs": []
    },
    {
      "metadata": {
        "scrolled": true,
        "trusted": true,
        "_uuid": "09fabba3215eeca4dd3b1a077464202d8ab574fb"
      },
      "cell_type": "code",
      "source": "min_merror = np.inf\nfor max_bin in range(255,260,5):\n    for min_data_in_leaf in range(20, 100, 10):\n        lgbm_params[\"max_bin\"] = max_bin\n        lgbm_params[\"min_data_in_leaf\"] = min_data_in_leaf\n    \n        cv_results = lgb.cv(params = lgbm_params,\n                            train_set = dtrain,\n                            num_boost_round=3000,\n                            stratified = False,\n                            nfold = 5,\n                            feval = rmspe_lgb,\n                            verbose_eval=50,\n                            seed = 23,\n                            early_stopping_rounds = 30)\n        mean_error = min(cv_results['rmspe-mean'])\n        boost_rounds = np.argmin(cv_results['rmspe-mean'])\n    \n        if mean_error < min_merror:\n            min_merror = mean_error\n            lgb_best_params[\"max_bin\"] = max_bin\n            lgb_best_params[\"min_data_in_leaf\"] = min_data_in_leaf\n\nlgbm_params[\"max_bin\"] = lgb_best_params[\"max_bin\"]\nlgbm_params[\"min_data_in_leaf\"] = lgb_best_params[\"min_data_in_leaf\"]\nlgb_best_params",
      "execution_count": 26,
      "outputs": [
        {
          "output_type": "error",
          "ename": "LightGBMError",
          "evalue": "b'GPU Tree Learner was not enabled in this build. Recompile with CMake option -DUSE_GPU=1'",
          "traceback": [
            "\u001b[0;31m---------------------------------------------------------------------------\u001b[0m",
            "\u001b[0;31mLightGBMError\u001b[0m                             Traceback (most recent call last)",
            "\u001b[0;32m<ipython-input-26-1c3b25f5ef65>\u001b[0m in \u001b[0;36m<module>\u001b[0;34m()\u001b[0m\n\u001b[1;32m     13\u001b[0m                             \u001b[0mverbose_eval\u001b[0m\u001b[0;34m=\u001b[0m\u001b[0;36m50\u001b[0m\u001b[0;34m,\u001b[0m\u001b[0;34m\u001b[0m\u001b[0m\n\u001b[1;32m     14\u001b[0m                             \u001b[0mseed\u001b[0m \u001b[0;34m=\u001b[0m \u001b[0;36m23\u001b[0m\u001b[0;34m,\u001b[0m\u001b[0;34m\u001b[0m\u001b[0m\n\u001b[0;32m---> 15\u001b[0;31m                             early_stopping_rounds = 30)\n\u001b[0m\u001b[1;32m     16\u001b[0m         \u001b[0mmean_error\u001b[0m \u001b[0;34m=\u001b[0m \u001b[0mmin\u001b[0m\u001b[0;34m(\u001b[0m\u001b[0mcv_results\u001b[0m\u001b[0;34m[\u001b[0m\u001b[0;34m'rmspe-mean'\u001b[0m\u001b[0;34m]\u001b[0m\u001b[0;34m)\u001b[0m\u001b[0;34m\u001b[0m\u001b[0m\n\u001b[1;32m     17\u001b[0m         \u001b[0mboost_rounds\u001b[0m \u001b[0;34m=\u001b[0m \u001b[0mnp\u001b[0m\u001b[0;34m.\u001b[0m\u001b[0margmin\u001b[0m\u001b[0;34m(\u001b[0m\u001b[0mcv_results\u001b[0m\u001b[0;34m[\u001b[0m\u001b[0;34m'rmspe-mean'\u001b[0m\u001b[0;34m]\u001b[0m\u001b[0;34m)\u001b[0m\u001b[0;34m\u001b[0m\u001b[0m\n",
            "\u001b[0;32m/opt/conda/lib/python3.6/site-packages/lightgbm/engine.py\u001b[0m in \u001b[0;36mcv\u001b[0;34m(params, train_set, num_boost_round, folds, nfold, stratified, shuffle, metrics, fobj, feval, init_model, feature_name, categorical_feature, early_stopping_rounds, fpreproc, verbose_eval, show_stdv, seed, callbacks)\u001b[0m\n\u001b[1;32m    416\u001b[0m     cvfolds = _make_n_folds(train_set, folds=folds, nfold=nfold,\n\u001b[1;32m    417\u001b[0m                             \u001b[0mparams\u001b[0m\u001b[0;34m=\u001b[0m\u001b[0mparams\u001b[0m\u001b[0;34m,\u001b[0m \u001b[0mseed\u001b[0m\u001b[0;34m=\u001b[0m\u001b[0mseed\u001b[0m\u001b[0;34m,\u001b[0m \u001b[0mfpreproc\u001b[0m\u001b[0;34m=\u001b[0m\u001b[0mfpreproc\u001b[0m\u001b[0;34m,\u001b[0m\u001b[0;34m\u001b[0m\u001b[0m\n\u001b[0;32m--> 418\u001b[0;31m                             stratified=stratified, shuffle=shuffle)\n\u001b[0m\u001b[1;32m    419\u001b[0m \u001b[0;34m\u001b[0m\u001b[0m\n\u001b[1;32m    420\u001b[0m     \u001b[0;31m# setup callbacks\u001b[0m\u001b[0;34m\u001b[0m\u001b[0;34m\u001b[0m\u001b[0m\n",
            "\u001b[0;32m/opt/conda/lib/python3.6/site-packages/lightgbm/engine.py\u001b[0m in \u001b[0;36m_make_n_folds\u001b[0;34m(full_data, folds, nfold, params, seed, fpreproc, stratified, shuffle)\u001b[0m\n\u001b[1;32m    291\u001b[0m         \u001b[0;32melse\u001b[0m\u001b[0;34m:\u001b[0m\u001b[0;34m\u001b[0m\u001b[0m\n\u001b[1;32m    292\u001b[0m             \u001b[0mtparam\u001b[0m \u001b[0;34m=\u001b[0m \u001b[0mparams\u001b[0m\u001b[0;34m\u001b[0m\u001b[0m\n\u001b[0;32m--> 293\u001b[0;31m         \u001b[0mcvbooster\u001b[0m \u001b[0;34m=\u001b[0m \u001b[0mBooster\u001b[0m\u001b[0;34m(\u001b[0m\u001b[0mtparam\u001b[0m\u001b[0;34m,\u001b[0m \u001b[0mtrain_set\u001b[0m\u001b[0;34m)\u001b[0m\u001b[0;34m\u001b[0m\u001b[0m\n\u001b[0m\u001b[1;32m    294\u001b[0m         \u001b[0mcvbooster\u001b[0m\u001b[0;34m.\u001b[0m\u001b[0madd_valid\u001b[0m\u001b[0;34m(\u001b[0m\u001b[0mvalid_set\u001b[0m\u001b[0;34m,\u001b[0m \u001b[0;34m'valid'\u001b[0m\u001b[0;34m)\u001b[0m\u001b[0;34m\u001b[0m\u001b[0m\n\u001b[1;32m    295\u001b[0m         \u001b[0mret\u001b[0m\u001b[0;34m.\u001b[0m\u001b[0mappend\u001b[0m\u001b[0;34m(\u001b[0m\u001b[0mcvbooster\u001b[0m\u001b[0;34m)\u001b[0m\u001b[0;34m\u001b[0m\u001b[0m\n",
            "\u001b[0;32m/opt/conda/lib/python3.6/site-packages/lightgbm/basic.py\u001b[0m in \u001b[0;36m__init__\u001b[0;34m(self, params, train_set, model_file, silent)\u001b[0m\n\u001b[1;32m   1302\u001b[0m                 \u001b[0mtrain_set\u001b[0m\u001b[0;34m.\u001b[0m\u001b[0mconstruct\u001b[0m\u001b[0;34m(\u001b[0m\u001b[0;34m)\u001b[0m\u001b[0;34m.\u001b[0m\u001b[0mhandle\u001b[0m\u001b[0;34m,\u001b[0m\u001b[0;34m\u001b[0m\u001b[0m\n\u001b[1;32m   1303\u001b[0m                 \u001b[0mc_str\u001b[0m\u001b[0;34m(\u001b[0m\u001b[0mparams_str\u001b[0m\u001b[0;34m)\u001b[0m\u001b[0;34m,\u001b[0m\u001b[0;34m\u001b[0m\u001b[0m\n\u001b[0;32m-> 1304\u001b[0;31m                 ctypes.byref(self.handle)))\n\u001b[0m\u001b[1;32m   1305\u001b[0m             \u001b[0;31m# save reference to data\u001b[0m\u001b[0;34m\u001b[0m\u001b[0;34m\u001b[0m\u001b[0m\n\u001b[1;32m   1306\u001b[0m             \u001b[0mself\u001b[0m\u001b[0;34m.\u001b[0m\u001b[0mtrain_set\u001b[0m \u001b[0;34m=\u001b[0m \u001b[0mtrain_set\u001b[0m\u001b[0;34m\u001b[0m\u001b[0m\n",
            "\u001b[0;32m/opt/conda/lib/python3.6/site-packages/lightgbm/basic.py\u001b[0m in \u001b[0;36m_safe_call\u001b[0;34m(ret)\u001b[0m\n\u001b[1;32m     46\u001b[0m     \"\"\"\n\u001b[1;32m     47\u001b[0m     \u001b[0;32mif\u001b[0m \u001b[0mret\u001b[0m \u001b[0;34m!=\u001b[0m \u001b[0;36m0\u001b[0m\u001b[0;34m:\u001b[0m\u001b[0;34m\u001b[0m\u001b[0m\n\u001b[0;32m---> 48\u001b[0;31m         \u001b[0;32mraise\u001b[0m \u001b[0mLightGBMError\u001b[0m\u001b[0;34m(\u001b[0m\u001b[0m_LIB\u001b[0m\u001b[0;34m.\u001b[0m\u001b[0mLGBM_GetLastError\u001b[0m\u001b[0;34m(\u001b[0m\u001b[0;34m)\u001b[0m\u001b[0;34m)\u001b[0m\u001b[0;34m\u001b[0m\u001b[0m\n\u001b[0m\u001b[1;32m     49\u001b[0m \u001b[0;34m\u001b[0m\u001b[0m\n\u001b[1;32m     50\u001b[0m \u001b[0;34m\u001b[0m\u001b[0m\n",
            "\u001b[0;31mLightGBMError\u001b[0m: b'GPU Tree Learner was not enabled in this build. Recompile with CMake option -DUSE_GPU=1'"
          ]
        }
      ]
    },
    {
      "metadata": {
        "trusted": true,
        "collapsed": true,
        "_uuid": "58306a1925590746e31d127621622a6d5a253604"
      },
      "cell_type": "code",
      "source": "min_merror = np.inf\nfor feature_fraction in [i/10.0 for i in range(3,11)]:\n    for bagging_fraction in [i/10.0 for i in range(3,11)]:\n        for bagging_freq in range(0,10,2):\n            lgbm_params[\"feature_fraction\"] = feature_fraction\n            lgbm_params[\"bagging_fraction\"] = bagging_fraction\n            lgbm_params[\"bagging_freq\"] = bagging_freq \n        \n            cv_results = lgb.cv(params = lgbm_params,\n                                train_set = dtrain,\n                                num_boost_round = 3000,\n                                stratified = False,\n                                nfold = 5,\n                                feval = rmspe_lgb,\n                                verbose_eval = 100,\n                                seed = 23,\n                                early_stopping_rounds = 30)\n            mean_error = min(cv_results['rmspe-mean'])\n            boost_rounds = np.argmin(cv_results['rmspe-mean'])\n    \n            if mean_error < min_merror:\n                min_merror = mean_error\n                lgb_best_params[\"feature_fraction\"] = feature_fraction\n                lgb_best_params[\"bagging_fraction\"] = bagging_fraction\n                lgb_best_params[\"bagging_freq\"] = bagging_freq\n\nlgbm_params[\"feature_fraction\"] = lgb_best_params[\"feature_fraction\"]\nlgbm_params[\"bagging_fraction\"] = lgb_best_params[\"bagging_fraction\"]\nlgbm_params[\"bagging_freq\"] = lgb_best_params[\"bagging_freq\"]\nlgb_best_params",
      "execution_count": null,
      "outputs": []
    },
    {
      "metadata": {
        "trusted": true,
        "collapsed": true,
        "_uuid": "5ab28eba187d1c9efe655a5ed893a66812c601d6"
      },
      "cell_type": "code",
      "source": "min_merror = np.inf\nfor lambda_l1 in [i/10.0 for i in range(0,11)]:\n    for lambda_l2 in [i/10.0 for i in range(0,11)]:\n        for min_split_gain in [i/10.0 for i in range(0,11)]:\n            lgbm_params[\"lambda_l1\"] = lambda_l1\n            lgbm_params[\"lambda_l2\"] = lambda_l2\n            lgbm_params[\"min_split_gain\"] = min_split_gain \n    \n            cv_results = lgb.cv(params = lgbm_params,\n                                train_set = dtrain,\n                                num_boost_round = 3000,\n                                stratified = False,\n                                nfold = 5,\n                                feval = rmspe_lgb,\n                                verbose_eval = 100,\n                                seed = 23,\n                                early_stopping_rounds = 30)\n            mean_error = min(cv_results['rmspe-mean'])\n            boost_rounds = np.argmin(cv_results['rmspe-mean'])\n    \n            if mean_error < min_merror:\n                min_merror = mean_error\n                lgb_best_params[\"lambda_l1\"] = lambda_l1\n                lgb_best_params[\"lambda_l2\"] = lambda_l2\n                lgb_best_params[\"min_split_gain\"] = min_split_gain\n\nlgbm_params[\"lambda_l1\"] = lgb_best_params[\"lambda_l1\"]\nlgbm_params[\"lambda_l2\"] = lgb_best_params[\"lambda_l2\"]\nlgbm_params[\"min_split_gain\"] = lgb_best_params[\"min_split_gain\"]\nlgb_best_params",
      "execution_count": null,
      "outputs": []
    }
  ],
  "metadata": {
    "kernelspec": {
      "display_name": "Python 3",
      "language": "python",
      "name": "python3"
    },
    "language_info": {
      "name": "python",
      "version": "3.6.4",
      "mimetype": "text/x-python",
      "codemirror_mode": {
        "name": "ipython",
        "version": 3
      },
      "pygments_lexer": "ipython3",
      "nbconvert_exporter": "python",
      "file_extension": ".py"
    }
  },
  "nbformat": 4,
  "nbformat_minor": 1
}